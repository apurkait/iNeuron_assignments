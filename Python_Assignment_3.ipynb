{
 "cells": [
  {
   "cell_type": "markdown",
   "metadata": {},
   "source": [
    "### 1.1 Write a Python Program to implement your own myreduce() function which works exactly like Python's built-in function reduce()."
   ]
  },
  {
   "cell_type": "code",
   "execution_count": 9,
   "metadata": {},
   "outputs": [
    {
     "name": "stdout",
     "output_type": "stream",
     "text": [
      "-10\n",
      "24\n",
      "acg\n",
      "5\n",
      "a\n"
     ]
    }
   ],
   "source": [
    "# Custom Exception class for Empty Iterable objects\n",
    "class EmptyIterableError(Exception):\n",
    "    def __init__(self, *args):\n",
    "        if args:\n",
    "            self.message = args[0]\n",
    "        else:\n",
    "            self.message = None\n",
    "\n",
    "    def __str__(self):\n",
    "        if self.message:\n",
    "            return \"Exception Raised: EmptyIterableError, \" + self.message\n",
    "        else:\n",
    "            return \"EmptyIterableError has been raised\"\n",
    "\n",
    "\n",
    "# In case a non iterable type is given\n",
    "class NonIterableError(Exception):\n",
    "    def __init__(self, *args):\n",
    "        if args:\n",
    "            self.statement = args[0]\n",
    "        else:\n",
    "            self.statement = None\n",
    "\n",
    "    def __str__(self):\n",
    "        if self.statement:\n",
    "            return \"Exception Raised: NonIterableError, \" + self.statement\n",
    "        else:\n",
    "            return \"NonIterableError has been raised\"\n",
    "\n",
    "\n",
    "# Customized reduce function. Found two types of customized exceptions which are handled in in-built 'reduce' function.\n",
    "def myreduce(func, iter):\n",
    "    try:\n",
    "        # 'iter' itself is not an iterable object at all\n",
    "        if type(iter) in [int, bool, float] or iter == None:\n",
    "            raise NonIterableError(\"myreduce() arg 2 must support iteration\")\n",
    "\n",
    "        # Iterable object is empty\n",
    "        if len(iter) == 0:\n",
    "            raise EmptyIterableError(\"myreduce() of empty sequence with no initial value\")\n",
    "\n",
    "        # If iterable object is a dictionary, then need to process it using it's keys only. Otherwise follow the else loop\n",
    "        if type(iter) == dict:\n",
    "            keys = list(iter.keys())\n",
    "            result = func(keys[0], keys[1])\n",
    "            iter = keys  # Assigning all keys to existing 'iter' variable so that for loop can execute later\n",
    "        else:\n",
    "            result = func(iter[0], iter[1])  # Saving initial result\n",
    "\n",
    "        # Process for rest of the elements\n",
    "        for elem in iter[2: len(iter)]:\n",
    "            result = func(result, elem)\n",
    "\n",
    "        return result\n",
    "\n",
    "    except EmptyIterableError as e:\n",
    "        return e\n",
    "    except NonIterableError as e:\n",
    "        return e\n",
    "    except IndexError as e:\n",
    "        if len(iter) == 1:  # In case list contains only one element\n",
    "            if type(iter) == dict:\n",
    "                return list(iter.keys())[0]  # if dictionary contains one element return it's only key\n",
    "            else:\n",
    "                return iter[0]  # return that single element\n",
    "        else:\n",
    "            return e\n",
    "    except Exception as e:\n",
    "        return e\n",
    "\n",
    "\n",
    "if __name__ == \"__main__\":\n",
    "    print(myreduce(lambda a, b: a - b, [5, 6, 9]))\n",
    "    print(myreduce(lambda a, b: a * b, (1, 2, 3, 4)))\n",
    "    print(myreduce(lambda a, b: a + b, {'a': 1, 'c': 20, 'g': 7}))\n",
    "    print(myreduce(lambda a, b: a - b, [5]))  # List with single element\n",
    "    print(myreduce(lambda a, b: a - b, {'a': 1}))  # Dictionary with single element\n",
    "    # print(myreduce(lambda a, b: a + b, (4)))  # tuple with single element. will raise exception as (5) is equivalent to 5\n",
    "\n",
    "    '''You can uncomment each one of below lines to see customized exceptions in action.'''\n",
    "    # print(myreduce(lambda a, b: a + b, []))\n",
    "    # print(myreduce(lambda a, b: a + b, 8))\n",
    "    # print(myreduce(lambda a, b: a + b, None))\n"
   ]
  },
  {
   "cell_type": "markdown",
   "metadata": {},
   "source": [
    "### 1.2 Write a Python program to implement your own myfilter() function which works exactly like Python's built-in function filter()."
   ]
  },
  {
   "cell_type": "code",
   "execution_count": 10,
   "metadata": {},
   "outputs": [
    {
     "name": "stdout",
     "output_type": "stream",
     "text": [
      "[2, 4, 6]\n",
      "[2, 4, 6]\n",
      "['o', 'e', 'a', 'e']\n",
      "[2, 6]\n",
      "[]\n",
      "[]\n",
      "[]\n",
      "[]\n"
     ]
    }
   ],
   "source": [
    "# Customized filter function. Didn't found any customized exception for in-built filter function. Will throw default exceptions.\n",
    "def myfilter(func, iter):\n",
    "    result = []\n",
    "    # If iterable object is a dictionary, then need to process it using it's keys only. Otherwise follow the else loop\n",
    "    if type(iter) == dict:\n",
    "        keys = list(iter.keys())\n",
    "        iter = keys  # Assigning all keys to existing 'iter' variable so that for loop can execute later\n",
    "\n",
    "    # Process for rest of the elements\n",
    "    for elem in iter:\n",
    "        if func(elem):\n",
    "            result.append(elem)\n",
    "\n",
    "    return result\n",
    "\n",
    "\n",
    "if __name__ == \"__main__\":\n",
    "    print(myfilter(lambda x: x % 2 == 0, [2, 4, 5, 6, 7]))  # filter function for list\n",
    "    print(myfilter(lambda x: x % 2 == 0, (2, 4, 5, 6, 7)))  # filter function for tuple\n",
    "    print(myfilter(lambda x: x in ['a', 'e', 'i', 'o', 'u'], \"moderate\"))  # filter function for string\n",
    "    print(myfilter(lambda x: x % 2 == 0, {2: 'g', 6: 'gh', 9: 'yh'}))  # filter function for dictionary\n",
    "    print(myfilter(lambda x: x % 2 == 0, []))  # Blank List\n",
    "    print(myfilter(lambda x: x % 2 == 0, ()))  # Blank tuple\n",
    "    print(myfilter(lambda x: x % 2 == 0, \"\"))  # Blank string\n",
    "    print(myfilter(lambda x: x % 2 == 0, {}))  # Blank dictionary\n",
    "\n",
    "    # print(myfilter(lambda x: x % 2 == 0, [\"2\", 4, \"5\", 6, 7]))  # Default exception will be raised\n",
    "    # print(myfilter(lambda x: x % 2 == 0, 7))  # Default exception will be raised\n",
    "    # print(myfilter(lambda x: x % 2 == 0, {2: 'g', 6: 'gh', 'ac': 'yh'}))  # Default exception will be raised\n"
   ]
  },
  {
   "cell_type": "markdown",
   "metadata": {},
   "source": [
    "### 2. Write List comprehensions to produce the following Lists"
   ]
  },
  {
   "cell_type": "code",
   "execution_count": 11,
   "metadata": {},
   "outputs": [
    {
     "name": "stdout",
     "output_type": "stream",
     "text": [
      "['x', 'xx', 'xxx', 'xxxx', 'y', 'yy', 'yyy', 'yyyy', 'z', 'zz', 'zzz', 'zzzz']\n"
     ]
    }
   ],
   "source": [
    "print([idx * elem for elem in ['x', 'y', 'z'] for idx in range(1, 5)])"
   ]
  },
  {
   "cell_type": "code",
   "execution_count": 12,
   "metadata": {},
   "outputs": [
    {
     "name": "stdout",
     "output_type": "stream",
     "text": [
      "['x', 'y', 'z', 'xx', 'yy', 'zz', 'xxx', 'yyy', 'zzz', 'xxxx', 'yyyy', 'zzzz']\n"
     ]
    }
   ],
   "source": [
    "print([idx * elem for idx in range(1, 5) for elem in ['x', 'y', 'z']])"
   ]
  },
  {
   "cell_type": "code",
   "execution_count": 13,
   "metadata": {},
   "outputs": [
    {
     "name": "stdout",
     "output_type": "stream",
     "text": [
      "[[2], [3], [4], [3], [4], [5], [4], [5], [6]]\n"
     ]
    }
   ],
   "source": [
    "print([[idx + i] for idx in range(2, 5) for i in range(0, 3)])"
   ]
  },
  {
   "cell_type": "code",
   "execution_count": 14,
   "metadata": {},
   "outputs": [
    {
     "name": "stdout",
     "output_type": "stream",
     "text": [
      "[[2, 3, 4, 5], [3, 4, 5, 6], [4, 5, 6, 7], [5, 6, 7, 8]]\n"
     ]
    }
   ],
   "source": [
    "print([[idx + i for i in range(0, 4)] for idx in range(2, 6)])"
   ]
  },
  {
   "cell_type": "code",
   "execution_count": 15,
   "metadata": {},
   "outputs": [
    {
     "name": "stdout",
     "output_type": "stream",
     "text": [
      "[(1, 1), (2, 1), (3, 1), (1, 2), (2, 2), (3, 2), (1, 3), (2, 3), (3, 3)]\n"
     ]
    }
   ],
   "source": [
    "print([(i, idx) for idx in range(1, 4) for i in range(1, 4)])"
   ]
  },
  {
   "cell_type": "code",
   "execution_count": null,
   "metadata": {},
   "outputs": [],
   "source": []
  }
 ],
 "metadata": {
  "kernelspec": {
   "display_name": "Python 3",
   "language": "python",
   "name": "python3"
  },
  "language_info": {
   "codemirror_mode": {
    "name": "ipython",
    "version": 3
   },
   "file_extension": ".py",
   "mimetype": "text/x-python",
   "name": "python",
   "nbconvert_exporter": "python",
   "pygments_lexer": "ipython3",
   "version": "3.8.3"
  }
 },
 "nbformat": 4,
 "nbformat_minor": 4
}
