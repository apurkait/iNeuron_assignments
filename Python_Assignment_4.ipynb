{
 "cells": [
  {
   "cell_type": "markdown",
   "metadata": {},
   "source": [
    "### 1.1 Write a Python Program(with class concepts) to find the area of the triangle using the below formula."
   ]
  },
  {
   "cell_type": "markdown",
   "metadata": {},
   "source": [
    "### area = (s*(s-a)*(s-b)*(s-c)) *** 0.5"
   ]
  },
  {
   "cell_type": "markdown",
   "metadata": {},
   "source": [
    "### Function to take the length of the sides of triangle from user should be defined in the parent class and function to calculate the area should be defined in subclass."
   ]
  },
  {
   "cell_type": "code",
   "execution_count": 5,
   "metadata": {},
   "outputs": [
    {
     "name": "stdout",
     "output_type": "stream",
     "text": [
      "3\n",
      "4\n",
      "5\n",
      "Lengths of triangle are: 3.0, 4.0 and 5.0\n",
      "Calculated area is: 6.0\n"
     ]
    }
   ],
   "source": [
    "class parent:\n",
    "    def __init__(self):\n",
    "        self.a = None\n",
    "        self.b = None\n",
    "        self.c = None\n",
    "\n",
    "    # function to take the length of the sides of triangle from user\n",
    "    def lengths(self):\n",
    "        self.a = float(input())\n",
    "        self.b = float(input())\n",
    "        self.c = float(input())\n",
    "\n",
    "\n",
    "class child(parent):\n",
    "    def __init__(self):\n",
    "        super().__init__()  # calling parent __init__ to use parent instance variables inside child class\n",
    "\n",
    "    # function to calculate the area\n",
    "    def area(self):\n",
    "        s_perim = (self.a + self.b + self.c) / 2\n",
    "        return pow(s_perim * (s_perim - self.a) * (s_perim - self.b) * (s_perim - self.c), 0.5)\n",
    "\n",
    "\n",
    "if __name__ == \"__main__\":\n",
    "    ch = child()\n",
    "    ch.lengths()\n",
    "    print(\"Lengths of triangle are: \" + str(ch.a) + \", \" + str(ch.b) + \" and \" + str(ch.c))\n",
    "    print(\"Calculated area is: \" + str(ch.area()))\n"
   ]
  },
  {
   "cell_type": "markdown",
   "metadata": {},
   "source": [
    "### 1.2 Write a function filter_long_words() that takes a list of words and an integer n and returns the list of words that are longer than n."
   ]
  },
  {
   "cell_type": "code",
   "execution_count": 6,
   "metadata": {},
   "outputs": [
    {
     "name": "stdout",
     "output_type": "stream",
     "text": [
      "['bcde', 'yhju', 'jyhgfd']\n"
     ]
    }
   ],
   "source": [
    "def filter_long_words(wordlist, n):\n",
    "    return list(filter(lambda x: len(x) > n, wordlist))\n",
    "\n",
    "\n",
    "if __name__ == \"__main__\":\n",
    "    print(filter_long_words([\"abc\", \"bcde\", \"yhju\", \"uhg\", \"jyhgfd\"], 3))"
   ]
  },
  {
   "cell_type": "markdown",
   "metadata": {},
   "source": [
    "### 2.1 Write a Python program using function concept that maps list of words into a list of integers representing the lengths of the corresponding words."
   ]
  },
  {
   "cell_type": "markdown",
   "metadata": {},
   "source": [
    "### Hint: If a list [ ab,cde,erty] is passed on to the python function output should come as [2,3,4] . Here 2,3 and 4 are the lengths of the words in the list."
   ]
  },
  {
   "cell_type": "code",
   "execution_count": 7,
   "metadata": {},
   "outputs": [
    {
     "name": "stdout",
     "output_type": "stream",
     "text": [
      "[2, 3, 4]\n"
     ]
    }
   ],
   "source": [
    "def word_length(wordlist):\n",
    "    return list(map(len, wordlist))\n",
    "\n",
    "\n",
    "if __name__ == \"__main__\":\n",
    "    print(word_length([\"ab\", \"cde\", \"erty\"]))"
   ]
  },
  {
   "cell_type": "markdown",
   "metadata": {},
   "source": [
    "### 2.2 Write a Python function which takes a character (i.e. a string of length 1) and returns True if it is a vowel, False otherwise."
   ]
  },
  {
   "cell_type": "code",
   "execution_count": 8,
   "metadata": {},
   "outputs": [
    {
     "name": "stdout",
     "output_type": "stream",
     "text": [
      "False\n",
      "True\n",
      "False\n",
      "False\n"
     ]
    }
   ],
   "source": [
    "def vowel_check(ch):\n",
    "    return ch in ['a', 'e', 'i', 'o', 'u']\n",
    "\n",
    "\n",
    "if __name__ == \"__main__\":\n",
    "    print(vowel_check('k'))\n",
    "    print(vowel_check('u'))\n",
    "    print(vowel_check('j'))\n",
    "    print(vowel_check('l'))\n"
   ]
  },
  {
   "cell_type": "code",
   "execution_count": null,
   "metadata": {},
   "outputs": [],
   "source": []
  }
 ],
 "metadata": {
  "kernelspec": {
   "display_name": "Python 3",
   "language": "python",
   "name": "python3"
  },
  "language_info": {
   "codemirror_mode": {
    "name": "ipython",
    "version": 3
   },
   "file_extension": ".py",
   "mimetype": "text/x-python",
   "name": "python",
   "nbconvert_exporter": "python",
   "pygments_lexer": "ipython3",
   "version": "3.8.3"
  }
 },
 "nbformat": 4,
 "nbformat_minor": 4
}
