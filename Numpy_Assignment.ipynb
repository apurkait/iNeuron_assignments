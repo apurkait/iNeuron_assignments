{
 "cells": [
  {
   "cell_type": "code",
   "execution_count": 1,
   "metadata": {},
   "outputs": [],
   "source": [
    "import numpy as np"
   ]
  },
  {
   "cell_type": "markdown",
   "metadata": {},
   "source": [
    "### Ques 1. Write a function so that the columns of the output matrix are powers of the input vector.\n",
    "\n",
    "### The order of the powers is determined by the increasing boolean argument. Specifically, when increasing is False, the i-th output column is the input vector raised element-wise to the power of N - i - 1.\n",
    "\n",
    "### HINT: Such a matrix with a geometric progression in each row is named for Alexandre-Theophile Vandermonde."
   ]
  },
  {
   "cell_type": "code",
   "execution_count": 55,
   "metadata": {},
   "outputs": [],
   "source": [
    "## Below function will execute exactly like inbuilt 'vander' function which exists in 'numpy' module.\n",
    "## Just like existing 'vander' function, 'N' and 'increasing' parameters are 'None' and 'False' respectively. And if 'N' is None, then N=len(np_arr).\n",
    "def vander(np_arr, N= None, increasing= False):\n",
    "    n = len(np_arr)\n",
    "    if N is None:\n",
    "        N= n\n",
    "    final_np_arr = np.empty((0, N), dtype= 'int')\n",
    "    \n",
    "    for i in range(n):\n",
    "        a = list()\n",
    "        for j in range(N):\n",
    "            if increasing:\n",
    "             a.append(np_arr[i] ** (j))\n",
    "            else:\n",
    "                a.append(np_arr[i] ** (N - j - 1))\n",
    "        final_np_arr = np.append(final_np_arr, np.array([a]), axis = 0)\n",
    "        \n",
    "    return final_np_arr"
   ]
  },
  {
   "cell_type": "code",
   "execution_count": 56,
   "metadata": {},
   "outputs": [
    {
     "data": {
      "text/plain": [
       "array([[   1,    1,    1,    1,    1],\n",
       "       [  16,    8,    4,    2,    1],\n",
       "       [  81,   27,    9,    3,    1],\n",
       "       [ 625,  125,   25,    5,    1],\n",
       "       [2401,  343,   49,    7,    1]])"
      ]
     },
     "execution_count": 56,
     "metadata": {},
     "output_type": "execute_result"
    }
   ],
   "source": [
    "vander([1, 2, 3, 5, 7])"
   ]
  },
  {
   "cell_type": "code",
   "execution_count": 57,
   "metadata": {},
   "outputs": [
    {
     "data": {
      "text/plain": [
       "array([[ 1,  1,  1],\n",
       "       [ 4,  2,  1],\n",
       "       [ 9,  3,  1],\n",
       "       [25,  5,  1],\n",
       "       [49,  7,  1]])"
      ]
     },
     "execution_count": 57,
     "metadata": {},
     "output_type": "execute_result"
    }
   ],
   "source": [
    "vander([1, 2, 3, 5, 7], 3)"
   ]
  },
  {
   "cell_type": "code",
   "execution_count": 58,
   "metadata": {},
   "outputs": [
    {
     "data": {
      "text/plain": [
       "array([[   1,    1,    1,    1,    1],\n",
       "       [   1,    2,    4,    8,   16],\n",
       "       [   1,    3,    9,   27,   81],\n",
       "       [   1,    5,   25,  125,  625],\n",
       "       [   1,    7,   49,  343, 2401]])"
      ]
     },
     "execution_count": 58,
     "metadata": {},
     "output_type": "execute_result"
    }
   ],
   "source": [
    "vander([1, 2, 3, 5, 7], increasing= True)"
   ]
  },
  {
   "cell_type": "code",
   "execution_count": 59,
   "metadata": {
    "scrolled": true
   },
   "outputs": [
    {
     "data": {
      "text/plain": [
       "array([[  1,   1,   1,   1],\n",
       "       [  1,   2,   4,   8],\n",
       "       [  1,   3,   9,  27],\n",
       "       [  1,   5,  25, 125],\n",
       "       [  1,   7,  49, 343]])"
      ]
     },
     "execution_count": 59,
     "metadata": {},
     "output_type": "execute_result"
    }
   ],
   "source": [
    "vander([1, 2, 3, 5, 7], N= 4, increasing= True)"
   ]
  },
  {
   "cell_type": "markdown",
   "metadata": {},
   "source": [
    "#### Alternate way for Question 1. Directly applying 'vander' method of numpy."
   ]
  },
  {
   "cell_type": "code",
   "execution_count": 61,
   "metadata": {},
   "outputs": [
    {
     "data": {
      "text/plain": [
       "array([[  1,   1,   1,   1],\n",
       "       [  1,   2,   4,   8],\n",
       "       [  1,   3,   9,  27],\n",
       "       [  1,   5,  25, 125],\n",
       "       [  1,   7,  49, 343]])"
      ]
     },
     "execution_count": 61,
     "metadata": {},
     "output_type": "execute_result"
    }
   ],
   "source": [
    "def vander_apply(arr, N, increasing):\n",
    "    return np.vander(arr, N, increasing)\n",
    "\n",
    "vander_apply([1, 2, 3, 5, 7], 4, True)"
   ]
  },
  {
   "cell_type": "markdown",
   "metadata": {},
   "source": [
    "### Ques 2. Write a function to find moving average in an array over a window:\n",
    "\n",
    "### Test it over [3, 5, 7, 2, 8, 10, 11, 65, 72, 81, 99, 100, 150] and window of 3."
   ]
  },
  {
   "cell_type": "code",
   "execution_count": 83,
   "metadata": {},
   "outputs": [],
   "source": [
    "def mov_avg(arr, window):\n",
    "    if window <= 0 or len(arr) <= window:\n",
    "        return np.array([])\n",
    "    if window == 1:\n",
    "        return np.array(arr)\n",
    "    \n",
    "    res_arr = np.array([])\n",
    "    \n",
    "    for i in range(window - 1, len(arr)):\n",
    "        res_arr = np.append(res_arr, [sum(arr[i - window + 1 : i + 1]) / window])\n",
    "        \n",
    "    return res_arr"
   ]
  },
  {
   "cell_type": "code",
   "execution_count": 84,
   "metadata": {},
   "outputs": [
    {
     "data": {
      "text/plain": [
       "array([  5.        ,   4.66666667,   5.66666667,   6.66666667,\n",
       "         9.66666667,  28.66666667,  49.33333333,  72.66666667,\n",
       "        84.        ,  93.33333333, 116.33333333])"
      ]
     },
     "execution_count": 84,
     "metadata": {},
     "output_type": "execute_result"
    }
   ],
   "source": [
    "mov_avg([3, 5, 7, 2, 8, 10, 11, 65, 72, 81, 99, 100, 150], 3)"
   ]
  },
  {
   "cell_type": "code",
   "execution_count": 85,
   "metadata": {},
   "outputs": [
    {
     "data": {
      "text/plain": [
       "11"
      ]
     },
     "execution_count": 85,
     "metadata": {},
     "output_type": "execute_result"
    }
   ],
   "source": [
    "len(mov_avg([3, 5, 7, 2, 8, 10, 11, 65, 72, 81, 99, 100, 150], 3))"
   ]
  },
  {
   "cell_type": "code",
   "execution_count": null,
   "metadata": {},
   "outputs": [],
   "source": []
  }
 ],
 "metadata": {
  "kernelspec": {
   "display_name": "Python [conda env:mlEnv]",
   "language": "python",
   "name": "conda-env-mlEnv-py"
  },
  "language_info": {
   "codemirror_mode": {
    "name": "ipython",
    "version": 3
   },
   "file_extension": ".py",
   "mimetype": "text/x-python",
   "name": "python",
   "nbconvert_exporter": "python",
   "pygments_lexer": "ipython3",
   "version": "3.8.5"
  }
 },
 "nbformat": 4,
 "nbformat_minor": 4
}
